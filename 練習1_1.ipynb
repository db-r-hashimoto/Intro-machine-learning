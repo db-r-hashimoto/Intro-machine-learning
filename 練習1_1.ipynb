{
  "nbformat": 4,
  "nbformat_minor": 0,
  "metadata": {
    "colab": {
      "provenance": [],
      "toc_visible": true,
      "authorship_tag": "ABX9TyP8eo439GTejTgi/XamSeUu",
      "include_colab_link": true
    },
    "kernelspec": {
      "name": "python3",
      "display_name": "Python 3"
    },
    "language_info": {
      "name": "python"
    }
  },
  "cells": [
    {
      "cell_type": "markdown",
      "metadata": {
        "id": "view-in-github",
        "colab_type": "text"
      },
      "source": [
        "<a href=\"https://colab.research.google.com/github/db-r-hashimoto/Intro-machine-learning/blob/main/%E7%B7%B4%E7%BF%921_1.ipynb\" target=\"_parent\"><img src=\"https://colab.research.google.com/assets/colab-badge.svg\" alt=\"Open In Colab\"/></a>"
      ]
    },
    {
      "cell_type": "code",
      "execution_count": null,
      "metadata": {
        "colab": {
          "base_uri": "https://localhost:8080/"
        },
        "id": "C8Xtqmr_RuBI",
        "outputId": "a0dfacb0-499a-4a69-ab18-a28abca188b9"
      },
      "outputs": [
        {
          "output_type": "stream",
          "name": "stdout",
          "text": [
            "身長(cm)を入力してください >> 180\n",
            "体重(kg)を入力してください >> 70\n",
            "あなたのBMIは21.604938271604937\n"
          ]
        }
      ],
      "source": [
        "height = int(input('身長(cm)を入力してください >> '))\n",
        "weight = int(input('体重(kg)を入力してください >> '))\n",
        "\n",
        "height = height / 100 # cm → mへ変換\n",
        "\n",
        "bmi = weight / (height ** 2)\n",
        "\n",
        "print('あなたのBMIは{}'.format(bmi))"
      ]
    },
    {
      "cell_type": "code",
      "source": [
        "list = [1, 1, 2, 3, 4, 5]\n",
        "dict = {'k1': 1, 'k2': 2}\n",
        "\n",
        "set = {1, 1, 2, 3, 4, 5}\n",
        "\n",
        "\n",
        "# 2-2\n",
        "scores=[]\n",
        "japanese = int(input('国語の点数を入力してください >> '))\n",
        "\n",
        "while japanese > 100:\n",
        "  japanese = int(input('国語の点数を入力してください >> '))\n",
        "\n",
        "scores.append(japanese)\n",
        "\n",
        "print(scores)"
      ],
      "metadata": {
        "colab": {
          "base_uri": "https://localhost:8080/"
        },
        "id": "1us866GdAe_T",
        "outputId": "3aee6fbb-c7b8-443f-9b70-8500fbebca9b"
      },
      "execution_count": 2,
      "outputs": [
        {
          "output_type": "stream",
          "name": "stdout",
          "text": [
            "国語の点数を入力してください >> 2000\n",
            "国語の点数を入力してください >> 2000\n",
            "国語の点数を入力してください >> 100\n",
            "[100]\n"
          ]
        }
      ]
    }
  ]
}